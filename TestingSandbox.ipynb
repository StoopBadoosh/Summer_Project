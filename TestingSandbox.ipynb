{
 "cells": [
  {
   "cell_type": "markdown",
   "id": "2a5b86a1-ad8a-46cf-9e72-3cdd29c804ac",
   "metadata": {},
   "source": [
    "## Summer Project"
   ]
  },
  {
   "cell_type": "markdown",
   "id": "d33e89cf-26eb-46d1-a70d-fc4105427153",
   "metadata": {},
   "source": [
    "Hello Hello text test"
   ]
  },
  {
   "cell_type": "code",
   "execution_count": 2,
   "id": "60934ede-30d8-4682-b87b-4b8b553fa023",
   "metadata": {},
   "outputs": [],
   "source": [
    "n = 5"
   ]
  },
  {
   "cell_type": "code",
   "execution_count": 3,
   "id": "a5c180e0-3b97-43e7-8bbd-1623928c29e3",
   "metadata": {},
   "outputs": [
    {
     "data": {
      "text/plain": [
       "10"
      ]
     },
     "execution_count": 3,
     "metadata": {},
     "output_type": "execute_result"
    }
   ],
   "source": [
    "n + 5"
   ]
  }
 ],
 "metadata": {
  "kernelspec": {
   "display_name": "Python 3 (ipykernel)",
   "language": "python",
   "name": "python3"
  },
  "language_info": {
   "codemirror_mode": {
    "name": "ipython",
    "version": 3
   },
   "file_extension": ".py",
   "mimetype": "text/x-python",
   "name": "python",
   "nbconvert_exporter": "python",
   "pygments_lexer": "ipython3",
   "version": "3.9.5"
  }
 },
 "nbformat": 4,
 "nbformat_minor": 5
}
